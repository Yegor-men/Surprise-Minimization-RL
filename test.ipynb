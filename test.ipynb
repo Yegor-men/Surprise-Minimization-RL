{
 "cells": [
  {
   "metadata": {
    "ExecuteTime": {
     "end_time": "2025-03-31T18:04:19.538501Z",
     "start_time": "2025-03-31T18:04:19.536218Z"
    }
   },
   "cell_type": "code",
   "source": [
    "# from collections import deque\n",
    "# import torch\n",
    "#\n",
    "#\n",
    "# class FixedSizeQueue:\n",
    "#     def __init__(self, max_len: int, input_shape: tuple):\n",
    "#         self.input_shape = input_shape\n",
    "#         self.queue = deque([torch.zeros(self.input_shape) for _ in range(max_len)], maxlen=max_len)\n",
    "#\n",
    "#     def return_queue_as_batched_tensor(self):\n",
    "#         return torch.stack(list(self.queue), dim=0)\n",
    "#\n",
    "#     def get_oldest(self):\n",
    "#         return self.queue[0]\n",
    "#\n",
    "#     def add_element(self, element: torch.tensor):\n",
    "#         self.queue.append(element)\n",
    "#\n",
    "# # skibidi = FixedSizeQueue(3)\n",
    "# # skibidi.add_element(torch.randn(3, 512, 568))\n",
    "# #\n",
    "# # print(skibidi.get_oldest())\n"
   ],
   "id": "d16dce684ee07ea2",
   "outputs": [],
   "execution_count": 23
  },
  {
   "metadata": {
    "collapsed": true,
    "ExecuteTime": {
     "end_time": "2025-03-31T18:04:19.581789Z",
     "start_time": "2025-03-31T18:04:19.580458Z"
    }
   },
   "cell_type": "code",
   "source": [
    "# import torch\n",
    "# from torch import nn\n",
    "# from torch import distributions as dist\n",
    "#\n",
    "#\n",
    "# class ReinforceLoss(nn.Module):\n",
    "#     def __init__(self):\n",
    "#         super().__init__()\n",
    "#\n",
    "#     def forward(self, logprob, is_touching: bool):\n",
    "#         reward = -1 if is_touching else 1\n",
    "#         loss = reward * (-logprob)\n",
    "#         return loss\n",
    "#\n",
    "#\n",
    "# loss_fn = ReinforceLoss()\n",
    "#\n",
    "# model_out = torch.Tensor([0.2])\n",
    "#\n",
    "# distribution = dist.Bernoulli(logits=model_out)\n",
    "# action = distribution.sample()\n",
    "# log_prob = distribution.log_prob(action)\n",
    "#\n",
    "# print(f\"Action: {action}\")\n",
    "# print(f\"Logprob: {log_prob}\")\n",
    "# loss = loss_fn(log_prob, is_touching=False)\n",
    "# print(f\"Loss: {loss}\")"
   ],
   "id": "initial_id",
   "outputs": [],
   "execution_count": 24
  },
  {
   "metadata": {
    "ExecuteTime": {
     "end_time": "2025-03-31T18:04:19.629606Z",
     "start_time": "2025-03-31T18:04:19.623278Z"
    }
   },
   "cell_type": "code",
   "source": [
    "# import torch\n",
    "# from torch import nn\n",
    "# from torch import distributions as dist\n",
    "#\n",
    "#\n",
    "# class Model(nn.Module):\n",
    "#     def __init__(self, image_history_length, h_c_size, compressed_image_size):\n",
    "#         super().__init__()\n",
    "#\n",
    "#         self.image_history = FixedSizeQueue(image_history_length, input_shape=(1, 3))\n",
    "#\n",
    "#         self.h = torch.zeros(1, h_c_size)\n",
    "#         self.c = torch.zeros(1, h_c_size)\n",
    "#         self.lstm = nn.LSTM(input_size=compressed_image_size, hidden_size=h_c_size)\n",
    "#\n",
    "#         self.image_encoder = nn.Sequential(\n",
    "#             nn.LazyLinear(out_features=compressed_image_size)\n",
    "#         )\n",
    "#\n",
    "#         self.choice_maker = nn.Sequential(\n",
    "#             nn.LazyLinear(out_features=1)\n",
    "#         )\n",
    "#\n",
    "#     def update_hidden_states(self):\n",
    "#         oldest_image = self.image_history.get_oldest()\n",
    "#         compressed_image = self.image_encoder(oldest_image)\n",
    "#         _, (n_h, n_c) = self.lstm(compressed_image, (self.h, self.c))\n",
    "#         self.h, self.c = n_h, n_c\n",
    "#\n",
    "#     def forward(self, new_image):\n",
    "#         self.image_history.add_element(new_image)\n",
    "#         images = self.image_history.return_queue_as_batched_tensor()\n",
    "#         compressed_images = self.image_encoder(images)\n",
    "#         temp_h, temp_c = self.h, self.c\n",
    "#         for i in range(compressed_images.size(0)):\n",
    "#             _, (temp_h, temp_c) = self.lstm(compressed_images[i], (temp_h, temp_c))\n",
    "#         distribution_logits = self.choice_maker(temp_h)\n",
    "#         distribution = dist.Bernoulli(logits=distribution_logits)\n",
    "#         choice = distribution.sample()\n",
    "#         logprob = distribution.log_prob(choice)\n",
    "#\n",
    "#         return choice, logprob\n",
    "#\n",
    "#\n",
    "# model = Model(\n",
    "#     image_history_length=32,\n",
    "#     h_c_size=10,\n",
    "#     compressed_image_size=5\n",
    "# )\n",
    "#\n",
    "# sample_input_image = torch.randn(1, 3)\n",
    "# out, log_prob = model(sample_input_image)\n",
    "# print(f\"Out: {out}\\nLogprob: {log_prob}\")"
   ],
   "id": "86d14c0012fa5b4b",
   "outputs": [
    {
     "name": "stdout",
     "output_type": "stream",
     "text": [
      "Out: tensor([[1.]])\n",
      "Logprob: tensor([[-0.7988]], grad_fn=<NegBackward0>)\n"
     ]
    }
   ],
   "execution_count": 25
  }
 ],
 "metadata": {
  "kernelspec": {
   "display_name": "Python 3",
   "language": "python",
   "name": "python3"
  },
  "language_info": {
   "codemirror_mode": {
    "name": "ipython",
    "version": 2
   },
   "file_extension": ".py",
   "mimetype": "text/x-python",
   "name": "python",
   "nbconvert_exporter": "python",
   "pygments_lexer": "ipython2",
   "version": "2.7.6"
  }
 },
 "nbformat": 4,
 "nbformat_minor": 5
}
